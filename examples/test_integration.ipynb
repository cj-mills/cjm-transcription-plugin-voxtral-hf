{
 "cells": [
  {
   "cell_type": "markdown",
   "id": "6245e4cd",
   "metadata": {},
   "source": [
    "# Test Plugin Integration\n",
    "\n",
    "> Test the Voxtral HF plugin with the transcription plugin system"
   ]
  },
  {
   "cell_type": "code",
   "execution_count": 1,
   "id": "6b815264",
   "metadata": {},
   "outputs": [],
   "source": [
    "import logging\n",
    "import json\n",
    "import numpy as np\n",
    "from pathlib import Path\n",
    "\n",
    "from cjm_transcription_plugin_system.plugin_manager import PluginManager\n",
    "from cjm_transcription_plugin_system.core import AudioData\n",
    "from cjm_transcription_plugin_voxtral_hf.plugin import VoxtralHFPlugin"
   ]
  },
  {
   "cell_type": "markdown",
   "id": "64b96af4",
   "metadata": {},
   "source": [
    "## Test Direct Plugin Usage"
   ]
  },
  {
   "cell_type": "code",
   "execution_count": 2,
   "id": "7c9aa6fd",
   "metadata": {},
   "outputs": [
    {
     "name": "stdout",
     "output_type": "stream",
     "text": [
      "Plugin: voxtral_hf v1.0.0\n",
      "Available: True\n",
      "Supported formats: wav, mp3, flac, m4a, ogg, webm, mp4, avi, mov\n",
      "Supports streaming: True\n"
     ]
    }
   ],
   "source": [
    "# Create plugin directly\n",
    "plugin = VoxtralHFPlugin()\n",
    "\n",
    "# Check basic properties\n",
    "print(f\"Plugin: {plugin.name} v{plugin.version}\")\n",
    "print(f\"Available: {plugin.is_available()}\")\n",
    "print(f\"Supported formats: {', '.join(plugin.supported_formats)}\")\n",
    "print(f\"Supports streaming: {plugin.supports_streaming()}\")"
   ]
  },
  {
   "cell_type": "code",
   "execution_count": 3,
   "id": "83bc7ced",
   "metadata": {},
   "outputs": [
    {
     "name": "stdout",
     "output_type": "stream",
     "text": [
      "Configuration options:\n",
      "- Required: ['model_id']\n",
      "- Total properties: 14\n",
      "\n",
      "Available models:\n",
      "  - mistralai/Voxtral-Mini-3B-2507\n",
      "  - mistralai/Voxtral-Small-24B-2507\n"
     ]
    }
   ],
   "source": [
    "# Get configuration schema\n",
    "schema = plugin.get_config_schema()\n",
    "print(\"Configuration options:\")\n",
    "print(f\"- Required: {schema.get('required', [])}\")\n",
    "print(f\"- Total properties: {len(schema['properties'])}\")\n",
    "print(\"\\nAvailable models:\")\n",
    "for model in schema['properties']['model_id']['enum']:\n",
    "    print(f\"  - {model}\")"
   ]
  },
  {
   "cell_type": "markdown",
   "id": "8c41020a",
   "metadata": {},
   "source": [
    "## Test with Plugin Manager"
   ]
  },
  {
   "cell_type": "code",
   "execution_count": 4,
   "id": "ba78faca",
   "metadata": {},
   "outputs": [],
   "source": [
    "# Setup logging\n",
    "logging.basicConfig(level=logging.INFO, format='%(name)s - %(levelname)s - %(message)s')\n",
    "\n",
    "# Create plugin manager\n",
    "manager = PluginManager()"
   ]
  },
  {
   "cell_type": "code",
   "execution_count": 5,
   "id": "c3902072",
   "metadata": {},
   "outputs": [
    {
     "name": "stderr",
     "output_type": "stream",
     "text": [
      "cjm_transcription_plugin_voxtral_hf.plugin.VoxtralHFPlugin - INFO - Initialized Voxtral HF plugin with model 'mistralai/Voxtral-Mini-3B-2507' on device 'cpu' with dtype 'torch.float32'\n",
      "cjm_transcription_plugin_system.plugin_manager.PluginManager - INFO - Loaded plugin from module: voxtral_hf\n"
     ]
    },
    {
     "name": "stdout",
     "output_type": "stream",
     "text": [
      "Plugin loaded: True\n"
     ]
    }
   ],
   "source": [
    "# Option 1: Load plugin from module directly (for development)\n",
    "# This works even without the package being installed\n",
    "import sys\n",
    "import os\n",
    "\n",
    "# Add parent directory to path to import the plugin module\n",
    "parent_dir = Path.cwd().parent\n",
    "if str(parent_dir) not in sys.path:\n",
    "    sys.path.insert(0, str(parent_dir))\n",
    "\n",
    "# Import and register the plugin\n",
    "from cjm_transcription_plugin_voxtral_hf.plugin import VoxtralHFPlugin\n",
    "\n",
    "# Create a temporary module file for the plugin manager to load\n",
    "temp_plugin_file = Path(\"temp_voxtral_plugin.py\")\n",
    "with open(temp_plugin_file, \"w\") as f:\n",
    "    f.write(\"from cjm_transcription_plugin_voxtral_hf.plugin import VoxtralHFPlugin\\n\")\n",
    "\n",
    "# Load the plugin\n",
    "success = manager.load_plugin_from_module(\n",
    "    str(temp_plugin_file),\n",
    "    config={\"model_id\": \"mistralai/Voxtral-Mini-3B-2507\", \"device\": \"cpu\"}  # Use Mini model for testing\n",
    ")\n",
    "\n",
    "print(f\"Plugin loaded: {success}\")\n",
    "\n",
    "# Clean up temp file\n",
    "temp_plugin_file.unlink()"
   ]
  },
  {
   "cell_type": "code",
   "execution_count": 6,
   "id": "27fe237e",
   "metadata": {},
   "outputs": [
    {
     "name": "stdout",
     "output_type": "stream",
     "text": [
      "Loaded plugins:\n",
      "  - voxtral_hf v1.0.0 (enabled: True)\n"
     ]
    }
   ],
   "source": [
    "# List loaded plugins\n",
    "print(\"Loaded plugins:\")\n",
    "for meta in manager.list_plugins():\n",
    "    print(f\"  - {meta.name} v{meta.version} (enabled: {meta.enabled})\")"
   ]
  },
  {
   "cell_type": "code",
   "execution_count": 7,
   "id": "110d5148",
   "metadata": {},
   "outputs": [
    {
     "name": "stdout",
     "output_type": "stream",
     "text": [
      "Current Voxtral configuration:\n",
      "{\n",
      "  \"model_id\": \"mistralai/Voxtral-Mini-3B-2507\",\n",
      "  \"device\": \"cpu\",\n",
      "  \"language\": \"en\",\n",
      "  \"dtype\": \"auto\"\n",
      "}\n"
     ]
    }
   ],
   "source": [
    "# Get plugin configuration\n",
    "current_config = manager.get_plugin_config(\"voxtral_hf\")\n",
    "print(\"Current Voxtral configuration:\")\n",
    "config_subset = {k: current_config[k] for k in [\"model_id\", \"device\", \"language\", \"dtype\"] if k in current_config}\n",
    "print(json.dumps(config_subset, indent=2))"
   ]
  },
  {
   "cell_type": "markdown",
   "id": "70d762b1",
   "metadata": {},
   "source": [
    "## Test Configuration Management"
   ]
  },
  {
   "cell_type": "code",
   "execution_count": 8,
   "id": "139da16e",
   "metadata": {},
   "outputs": [
    {
     "name": "stdout",
     "output_type": "stream",
     "text": [
      "Valid: switching to Small model\n",
      "  Config: {'model_id': 'mistralai/Voxtral-Small-24B-2507'}\n",
      "  Valid: True\n",
      "\n",
      "Invalid: bad model name\n",
      "  Config: {'model_id': 'invalid_model'}\n",
      "  Valid: False\n",
      "  Error: 'invalid_model' is not one of ['mistralai/Voxtral-Mini-3B-2507', 'mistralai/Voxtral-Small-24B-2507']...\n",
      "\n",
      "Valid: adjusting temperature\n",
      "  Config: {'temperature': 1.5}\n",
      "  Valid: False\n",
      "  Error: 'model_id' is a required property\n",
      "\n",
      "Failed validating 'required' in schema:\n",
      "    {'$schema': 'http://j...\n",
      "\n",
      "Invalid: temperature out of range\n",
      "  Config: {'temperature': 3.0}\n",
      "  Valid: False\n",
      "  Error: 'model_id' is a required property\n",
      "\n",
      "Failed validating 'required' in schema:\n",
      "    {'$schema': 'http://j...\n",
      "\n"
     ]
    }
   ],
   "source": [
    "# Validate different configurations\n",
    "test_configs = [\n",
    "    ({\"model_id\": \"mistralai/Voxtral-Small-24B-2507\"}, \"Valid: switching to Small model\"),\n",
    "    ({\"model_id\": \"invalid_model\"}, \"Invalid: bad model name\"),\n",
    "    ({\"temperature\": 1.5}, \"Valid: adjusting temperature\"),\n",
    "    ({\"temperature\": 3.0}, \"Invalid: temperature out of range\"),\n",
    "]\n",
    "\n",
    "for config, description in test_configs:\n",
    "    is_valid, error = manager.validate_plugin_config(\"voxtral_hf\", config)\n",
    "    print(f\"{description}\")\n",
    "    print(f\"  Config: {config}\")\n",
    "    print(f\"  Valid: {is_valid}\")\n",
    "    if error:\n",
    "        print(f\"  Error: {error[:100]}...\")\n",
    "    print()"
   ]
  },
  {
   "cell_type": "code",
   "execution_count": 9,
   "id": "e9b00342",
   "metadata": {},
   "outputs": [
    {
     "name": "stderr",
     "output_type": "stream",
     "text": [
      "cjm_transcription_plugin_voxtral_hf.plugin.VoxtralHFPlugin - INFO - Initialized Voxtral HF plugin with model 'mistralai/Voxtral-Mini-3B-2507' on device 'cpu' with dtype 'torch.float32'\n",
      "cjm_transcription_plugin_system.plugin_manager.PluginManager - INFO - Updated configuration for plugin: voxtral_hf\n"
     ]
    },
    {
     "name": "stdout",
     "output_type": "stream",
     "text": [
      "Configuration updated: True\n",
      "\n",
      "Updated configuration:\n",
      "  temperature: 0.8\n",
      "  language: en\n",
      "  do_sample: False\n",
      "  max_new_tokens: 10000\n"
     ]
    }
   ],
   "source": [
    "# Update configuration\n",
    "new_config = {\n",
    "    \"temperature\": 0.8,\n",
    "    \"language\": \"en\",\n",
    "    \"do_sample\": False,\n",
    "    \"max_new_tokens\": 10000\n",
    "}\n",
    "\n",
    "success = manager.update_plugin_config(\"voxtral_hf\", new_config, merge=True)\n",
    "print(f\"Configuration updated: {success}\")\n",
    "\n",
    "if success:\n",
    "    updated_config = manager.get_plugin_config(\"voxtral_hf\")\n",
    "    print(\"\\nUpdated configuration:\")\n",
    "    for key in new_config:\n",
    "        print(f\"  {key}: {updated_config[key]}\")"
   ]
  },
  {
   "cell_type": "markdown",
   "id": "5b96f366",
   "metadata": {},
   "source": [
    "## Test Transcription"
   ]
  },
  {
   "cell_type": "code",
   "execution_count": 10,
   "id": "f35bdcd5",
   "metadata": {},
   "outputs": [],
   "source": [
    "from nbdev.config import get_config\n",
    "from pathlib import Path\n",
    "\n",
    "config = get_config()\n",
    "project_dir = config.config_path\n",
    "test_dir = project_dir/\"./test_files/\"\n",
    "audio_path = test_dir/\"short_test_audio.mp3\"\n",
    "assert audio_path.exists()"
   ]
  },
  {
   "cell_type": "code",
   "execution_count": 11,
   "id": "1b418acc",
   "metadata": {},
   "outputs": [
    {
     "name": "stderr",
     "output_type": "stream",
     "text": [
      "cjm_transcription_plugin_voxtral_hf.plugin.VoxtralHFPlugin - INFO - Loading Voxtral model: mistralai/Voxtral-Mini-3B-2507\n"
     ]
    },
    {
     "name": "stdout",
     "output_type": "stream",
     "text": [
      "Transcribing: /mnt/SN850X_8TB_EXT4/Projects/GitHub/cj-mills/cjm-transcription-plugin-voxtral-hf/test_files/short_test_audio.mp3\n"
     ]
    },
    {
     "data": {
      "application/vnd.jupyter.widget-view+json": {
       "model_id": "b1f1bbf81b7f4d96895d1756e3c6feb0",
       "version_major": 2,
       "version_minor": 0
      },
      "text/plain": [
       "Fetching 1 files:   0%|          | 0/1 [00:00<?, ?it/s]"
      ]
     },
     "metadata": {},
     "output_type": "display_data"
    },
    {
     "data": {
      "application/vnd.jupyter.widget-view+json": {
       "model_id": "364f5361d6264e2a920cd307451c0686",
       "version_major": 2,
       "version_minor": 0
      },
      "text/plain": [
       "Fetching 1 files:   0%|          | 0/1 [00:00<?, ?it/s]"
      ]
     },
     "metadata": {},
     "output_type": "display_data"
    },
    {
     "name": "stderr",
     "output_type": "stream",
     "text": [
      "mistral_common.tokens.tokenizers.tekken - INFO - Vocab size: 150000\n",
      "mistral_common.tokens.tokenizers.tekken - INFO - Cutting vocab to first 130072 tokens.\n",
      "mistral_common.tokens.tokenizers.tekken - INFO - Vocab size: 150000\n",
      "mistral_common.tokens.tokenizers.tekken - INFO - Cutting vocab to first 130072 tokens.\n"
     ]
    },
    {
     "data": {
      "application/vnd.jupyter.widget-view+json": {
       "model_id": "39b36bce7a814361851909163749c461",
       "version_major": 2,
       "version_minor": 0
      },
      "text/plain": [
       "Loading checkpoint shards:   0%|          | 0/2 [00:00<?, ?it/s]"
      ]
     },
     "metadata": {},
     "output_type": "display_data"
    },
    {
     "name": "stderr",
     "output_type": "stream",
     "text": [
      "cjm_transcription_plugin_voxtral_hf.plugin.VoxtralHFPlugin - INFO - Voxtral model loaded successfully\n",
      "cjm_transcription_plugin_voxtral_hf.plugin.VoxtralHFPlugin - INFO - Processing audio with Voxtral mistralai/Voxtral-Mini-3B-2507\n",
      "cjm_transcription_plugin_voxtral_hf.plugin.VoxtralHFPlugin - INFO - Transcription completed: 43 words\n"
     ]
    },
    {
     "name": "stdout",
     "output_type": "stream",
     "text": [
      "Transcription result:\n",
      "  Text: November the 10th, Wednesday, 9 p.m. I'm standing in a dark alley. After waiting several hours, the time has come. A woman with long dark hair approaches. I have to act and fast before she realizes what has happened. I must find out.\n",
      "  Metadata: {'model': 'mistralai/Voxtral-Mini-3B-2507', 'language': 'en', 'device': 'cpu', 'dtype': 'torch.float32'}\n"
     ]
    }
   ],
   "source": [
    "print(f\"Transcribing: {audio_path}\")\n",
    "result = manager.execute_plugin(\"voxtral_hf\", audio_path)\n",
    "print(\"Transcription result:\")\n",
    "print(f\"  Text: {result.text}\")\n",
    "print(f\"  Metadata: {result.metadata}\")"
   ]
  },
  {
   "cell_type": "markdown",
   "id": "adf34802",
   "metadata": {},
   "source": [
    "## Test Streaming Support"
   ]
  },
  {
   "cell_type": "code",
   "execution_count": 12,
   "id": "087f1902",
   "metadata": {},
   "outputs": [
    {
     "name": "stdout",
     "output_type": "stream",
     "text": [
      "Plugin supports streaming: True\n",
      "All streaming plugins: ['voxtral_hf']\n"
     ]
    }
   ],
   "source": [
    "# Check streaming support\n",
    "print(f\"Plugin supports streaming: {manager.check_streaming_support('voxtral_hf')}\")\n",
    "print(f\"All streaming plugins: {manager.get_streaming_plugins()}\")"
   ]
  },
  {
   "cell_type": "code",
   "execution_count": 13,
   "id": "2c30d5f0",
   "metadata": {},
   "outputs": [
    {
     "name": "stderr",
     "output_type": "stream",
     "text": [
      "cjm_transcription_plugin_system.plugin_manager.PluginManager - INFO - Using streaming mode for plugin voxtral_hf\n",
      "cjm_transcription_plugin_voxtral_hf.plugin.VoxtralHFPlugin - INFO - Streaming transcription with Voxtral mistralai/Voxtral-Mini-3B-2507\n"
     ]
    },
    {
     "name": "stdout",
     "output_type": "stream",
     "text": [
      "Testing streaming transcription:\n",
      "Streaming output: November the 10th, Wednesday, 9 p.m. I'm standing in a dark alley. After waiting several hours, the time has come. A woman with long dark hair approaches. I have to act and fast before she realizes what has happened. I must find out.\n",
      "\n",
      "Streaming completed!\n"
     ]
    }
   ],
   "source": [
    "# Test streaming transcription\n",
    "print(\"Testing streaming transcription:\")\n",
    "print(\"Streaming output: \", end=\"\")\n",
    "for chunk in manager.execute_plugin_stream(\"voxtral_hf\", audio_path):\n",
    "    print(chunk, end=\"\", flush=True)\n",
    "print(\"\\n\\nStreaming completed!\")"
   ]
  },
  {
   "cell_type": "markdown",
   "id": "91d3232c",
   "metadata": {},
   "source": [
    "## Test Plugin Lifecycle"
   ]
  },
  {
   "cell_type": "code",
   "execution_count": 14,
   "id": "da01bee9",
   "metadata": {},
   "outputs": [
    {
     "name": "stdout",
     "output_type": "stream",
     "text": [
      "Testing plugin lifecycle:\n",
      "Plugin disabled: True\n",
      "Expected error: Plugin voxtral_hf is disabled\n",
      "Plugin re-enabled: True\n"
     ]
    }
   ],
   "source": [
    "# Test disabling and enabling\n",
    "print(\"Testing plugin lifecycle:\")\n",
    "\n",
    "# Disable plugin\n",
    "manager.disable_plugin(\"voxtral_hf\")\n",
    "print(f\"Plugin disabled: {not manager.plugins['voxtral_hf'].enabled}\")\n",
    "\n",
    "# Try to execute while disabled (should fail)\n",
    "try:\n",
    "    manager.execute_plugin(\"voxtral_hf\", audio_path)\n",
    "except ValueError as e:\n",
    "    print(f\"Expected error: {e}\")\n",
    "\n",
    "# Re-enable plugin\n",
    "manager.enable_plugin(\"voxtral_hf\")\n",
    "print(f\"Plugin re-enabled: {manager.plugins['voxtral_hf'].enabled}\")"
   ]
  },
  {
   "cell_type": "code",
   "execution_count": 15,
   "id": "b16a938c",
   "metadata": {},
   "outputs": [
    {
     "name": "stderr",
     "output_type": "stream",
     "text": [
      "cjm_transcription_plugin_voxtral_hf.plugin.VoxtralHFPlugin - INFO - Unloading Voxtral model\n"
     ]
    },
    {
     "name": "stdout",
     "output_type": "stream",
     "text": [
      "\n",
      "Cleaning up...\n"
     ]
    },
    {
     "name": "stderr",
     "output_type": "stream",
     "text": [
      "cjm_transcription_plugin_voxtral_hf.plugin.VoxtralHFPlugin - INFO - Cleanup completed\n",
      "cjm_transcription_plugin_system.plugin_manager.PluginManager - INFO - Unloaded plugin: voxtral_hf\n"
     ]
    },
    {
     "name": "stdout",
     "output_type": "stream",
     "text": [
      "Plugins loaded: 0\n"
     ]
    }
   ],
   "source": [
    "# Clean up\n",
    "print(\"\\nCleaning up...\")\n",
    "manager.unload_plugin(\"voxtral_hf\")\n",
    "print(f\"Plugins loaded: {len(manager.list_plugins())}\")"
   ]
  },
  {
   "cell_type": "markdown",
   "id": "ef0cdd76",
   "metadata": {},
   "source": [
    "## Test Entry Point Discovery (After Installation)"
   ]
  },
  {
   "cell_type": "code",
   "execution_count": 16,
   "id": "d0d01a06",
   "metadata": {},
   "outputs": [
    {
     "name": "stderr",
     "output_type": "stream",
     "text": [
      "cjm_transcription_plugin_system.plugin_manager.PluginManager - INFO - Discovered plugin: voxtral_hf v0.0.1 from package cjm-transcription-plugin-voxtral-hf\n",
      "cjm_transcription_plugin_voxtral_hf.plugin.VoxtralHFPlugin - INFO - Initialized Voxtral HF plugin with model 'mistralai/Voxtral-Mini-3B-2507' on device 'cuda' with dtype 'torch.bfloat16'\n",
      "cjm_transcription_plugin_system.plugin_manager.PluginManager - INFO - Loaded plugin: voxtral_hf\n"
     ]
    },
    {
     "name": "stdout",
     "output_type": "stream",
     "text": [
      "Testing entry point discovery:\n",
      "\n",
      "Discovered 1 plugin(s) via entry points:\n",
      "  - voxtral_hf v0.0.1 from cjm-transcription-plugin-voxtral-hf\n",
      "\n",
      "Loaded voxtral_hf: True\n"
     ]
    }
   ],
   "source": [
    "# This will only work after the package is installed with pip install -e .\n",
    "# or pip install cjm-transcription-plugin-voxtral-hf\n",
    "\n",
    "print(\"Testing entry point discovery:\")\n",
    "manager2 = PluginManager()\n",
    "\n",
    "# Discover plugins via entry points\n",
    "discovered = manager2.discover_plugins()\n",
    "print(f\"\\nDiscovered {len(discovered)} plugin(s) via entry points:\")\n",
    "for plugin_meta in discovered:\n",
    "    print(f\"  - {plugin_meta.name} v{plugin_meta.version} from {plugin_meta.package_name}\")\n",
    "\n",
    "# Load discovered plugins\n",
    "for plugin_meta in discovered:\n",
    "    if plugin_meta.name == \"voxtral_hf\":\n",
    "        success = manager2.load_plugin(plugin_meta, config={\"model_id\": \"mistralai/Voxtral-Mini-3B-2507\"})\n",
    "        print(f\"\\nLoaded {plugin_meta.name}: {success}\")"
   ]
  },
  {
   "cell_type": "code",
   "execution_count": 17,
   "id": "4fd02014",
   "metadata": {},
   "outputs": [],
   "source": [
    "# Test with larger model if desired\n",
    "# manager2.update_plugin_config('voxtral_hf', config={\"model_id\": \"mistralai/Voxtral-Small-24B-2507\", \"device\": \"cuda\"})\n",
    "# manager2.get_plugin_config('voxtral_hf')"
   ]
  },
  {
   "cell_type": "code",
   "execution_count": 18,
   "id": "c0e6f9f0",
   "metadata": {},
   "outputs": [
    {
     "name": "stderr",
     "output_type": "stream",
     "text": [
      "cjm_transcription_plugin_voxtral_hf.plugin.VoxtralHFPlugin - INFO - Loading Voxtral model: mistralai/Voxtral-Mini-3B-2507\n"
     ]
    },
    {
     "name": "stdout",
     "output_type": "stream",
     "text": [
      "Transcribing: /mnt/SN850X_8TB_EXT4/Projects/GitHub/cj-mills/cjm-transcription-plugin-voxtral-hf/test_files/short_test_audio.mp3\n"
     ]
    },
    {
     "data": {
      "application/vnd.jupyter.widget-view+json": {
       "model_id": "beeb0c930257456592d5bb663c63dd52",
       "version_major": 2,
       "version_minor": 0
      },
      "text/plain": [
       "Fetching 1 files:   0%|          | 0/1 [00:00<?, ?it/s]"
      ]
     },
     "metadata": {},
     "output_type": "display_data"
    },
    {
     "data": {
      "application/vnd.jupyter.widget-view+json": {
       "model_id": "b263998e21a643f78c45c4371ca12353",
       "version_major": 2,
       "version_minor": 0
      },
      "text/plain": [
       "Fetching 1 files:   0%|          | 0/1 [00:00<?, ?it/s]"
      ]
     },
     "metadata": {},
     "output_type": "display_data"
    },
    {
     "name": "stderr",
     "output_type": "stream",
     "text": [
      "mistral_common.tokens.tokenizers.tekken - INFO - Vocab size: 150000\n",
      "mistral_common.tokens.tokenizers.tekken - INFO - Cutting vocab to first 130072 tokens.\n",
      "mistral_common.tokens.tokenizers.tekken - INFO - Vocab size: 150000\n",
      "mistral_common.tokens.tokenizers.tekken - INFO - Cutting vocab to first 130072 tokens.\n"
     ]
    },
    {
     "data": {
      "application/vnd.jupyter.widget-view+json": {
       "model_id": "48debe9ae82e462cbf3940b59f4ff91a",
       "version_major": 2,
       "version_minor": 0
      },
      "text/plain": [
       "Loading checkpoint shards:   0%|          | 0/2 [00:00<?, ?it/s]"
      ]
     },
     "metadata": {},
     "output_type": "display_data"
    },
    {
     "name": "stderr",
     "output_type": "stream",
     "text": [
      "cjm_transcription_plugin_voxtral_hf.plugin.VoxtralHFPlugin - INFO - Voxtral model loaded successfully\n",
      "cjm_transcription_plugin_voxtral_hf.plugin.VoxtralHFPlugin - INFO - Processing audio with Voxtral mistralai/Voxtral-Mini-3B-2507\n",
      "cjm_transcription_plugin_voxtral_hf.plugin.VoxtralHFPlugin - INFO - Transcription completed: 43 words\n",
      "cjm_transcription_plugin_voxtral_hf.plugin.VoxtralHFPlugin - INFO - Unloading Voxtral model\n",
      "cjm_transcription_plugin_voxtral_hf.plugin.VoxtralHFPlugin - INFO - Cleanup completed\n"
     ]
    },
    {
     "name": "stdout",
     "output_type": "stream",
     "text": [
      "Transcription result:\n",
      "  Text: November the 10th, Wednesday, 9 p.m. I'm standing in a dark alley. After waiting several hours, the time has come. A woman with long dark hair approaches. I have to act and fast before she realises what has happened. I must find out.\n",
      "  Metadata: {'model': 'mistralai/Voxtral-Mini-3B-2507', 'language': 'en', 'device': 'cuda', 'dtype': 'torch.bfloat16'}\n"
     ]
    }
   ],
   "source": [
    "# Test transcription with discovered plugin\n",
    "if len(discovered) > 0 and \"voxtral_hf\" in [p.name for p in discovered]:\n",
    "    print(f\"Transcribing: {audio_path}\")\n",
    "    result = manager2.execute_plugin(\"voxtral_hf\", audio_path)\n",
    "    print(\"Transcription result:\")\n",
    "    print(f\"  Text: {result.text}\")\n",
    "    print(f\"  Metadata: {result.metadata}\")\n",
    "    \n",
    "    # Clean up\n",
    "    manager2.get_plugin('voxtral_hf').cleanup()"
   ]
  }
 ],
 "metadata": {
  "kernelspec": {
   "display_name": "Python 3 (ipykernel)",
   "language": "python",
   "name": "python3"
  },
  "language_info": {
   "codemirror_mode": {
    "name": "ipython",
    "version": 3
   },
   "file_extension": ".py",
   "mimetype": "text/x-python",
   "name": "python",
   "nbconvert_exporter": "python",
   "pygments_lexer": "ipython3",
   "version": "3.11.13"
  }
 },
 "nbformat": 4,
 "nbformat_minor": 5
}
